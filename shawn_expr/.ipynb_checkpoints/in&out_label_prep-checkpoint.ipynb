{
 "cells": [
  {
   "cell_type": "markdown",
   "id": "f1d24b7c-6664-4439-a393-901c724dce79",
   "metadata": {},
   "source": [
    "# In&Out Label Data Prep\n",
    "**output**: `categories_place365_inout.txt`"
   ]
  },
  {
   "cell_type": "markdown",
   "id": "6e2bd3ff-59fd-40fd-9c64-e6ac4cba7c91",
   "metadata": {
    "tags": []
   },
   "source": [
    "# Match Place365 Labels with In&Out Label\n",
    "#### original classes in format: (cate, index)"
   ]
  },
  {
   "cell_type": "code",
   "execution_count": 10,
   "id": "a5c43bde-2c5e-4dd3-9b4a-77b92bcd4db1",
   "metadata": {
    "tags": []
   },
   "outputs": [],
   "source": [
    "import os\n",
    "def load_inout_labels():\n",
    "    # prepare all the labels\n",
    "    # scene category relevant\n",
    "    file_name_category = 'categories_places365.txt'\n",
    "    if not os.access(file_name_category, os.W_OK):\n",
    "        synset_url = 'https://raw.githubusercontent.com/csailvision/places365/master/categories_places365.txt'\n",
    "        os.system('wget ' + synset_url)\n",
    "    classes = list()\n",
    "    with open(file_name_category) as class_file:\n",
    "        for line in class_file:\n",
    "            classes.append(line.strip().split(' ')[0][3:])\n",
    "    classes = list(classes)\n",
    "\n",
    "    # indoor and outdoor relevant\n",
    "    file_name_IO = 'IO_places365.txt'\n",
    "    if not os.access(file_name_IO, os.W_OK):\n",
    "        synset_url = 'https://raw.githubusercontent.com/csailvision/places365/master/IO_places365.txt'\n",
    "        os.system('wget ' + synset_url)\n",
    "    with open(file_name_IO) as f:\n",
    "        lines = f.readlines()\n",
    "        labels_IO = []\n",
    "        for line in lines:\n",
    "            items = line.rstrip().split()\n",
    "            # 0 is indoor, 1 is outdoor\n",
    "            labels_IO.append(int(items[-1]) -1)\n",
    "\n",
    "    return classes, labels_IO\n",
    "\n",
    "classes, labels_IO = load_inout_labels()"
   ]
  },
  {
   "cell_type": "code",
   "execution_count": 11,
   "id": "311d6769-032e-4866-9f07-a3a0a3ef67e7",
   "metadata": {
    "tags": []
   },
   "outputs": [
    {
     "data": {
      "text/plain": [
       "[1, 0, 0, 0, 1, 1, 0, 1, 1, 0]"
      ]
     },
     "execution_count": 11,
     "metadata": {},
     "output_type": "execute_result"
    }
   ],
   "source": [
    "labels_IO[0:10]"
   ]
  },
  {
   "cell_type": "markdown",
   "id": "dbf725ce-8aeb-414f-bf59-ce09b7d239fe",
   "metadata": {
    "tags": []
   },
   "source": [
    "#### create a list in format (cate, index, in/out-door)\n",
    "* 0 is indoor, 1 is outdoor\n",
    "* store in ```categories_place365_inout.txt```"
   ]
  },
  {
   "cell_type": "code",
   "execution_count": 5,
   "id": "1d77cf6e-d035-4066-97fc-f8e38995acf7",
   "metadata": {
    "tags": []
   },
   "outputs": [],
   "source": [
    "output = []\n",
    "for idx, cate in enumerate(classes):\n",
    "    output.append(f\"{cate} {idx} {labels_IO[idx]}\\n\")"
   ]
  },
  {
   "cell_type": "code",
   "execution_count": 6,
   "id": "eb6605f7-234e-42a7-a8ae-c56db2585cdb",
   "metadata": {
    "tags": []
   },
   "outputs": [],
   "source": [
    "with open(\"./categories_place365_inout.txt\", \"w\") as f:\n",
    "    f.writelines(output)"
   ]
  },
  {
   "cell_type": "code",
   "execution_count": 8,
   "id": "6df0363c-59b9-4f57-a8fd-c993641db960",
   "metadata": {},
   "outputs": [
    {
     "name": "stdout",
     "output_type": "stream",
     "text": [
      "['airfield 0 1\\n', 'airplane_cabin 1 0\\n', 'airport_terminal 2 0\\n', 'alcove 3 0\\n', 'alley 4 1\\n', 'amphitheater 5 1\\n', 'amusement_arcade 6 0\\n', 'amusement_park 7 1\\n', 'apartment_building/outdoor 8 1\\n', 'aquarium 9 0\\n', 'aqueduct 10 1\\n', 'arcade 11 0\\n', 'arch 12 1\\n', 'archaelogical_excavation 13 0\\n', 'archive 14 0\\n', 'arena/hockey 15 0\\n', 'arena/performance 16 0\\n', 'arena/rodeo 17 0\\n', 'army_base 18 1\\n', 'art_gallery 19 0\\n', 'art_school 20 0\\n', 'art_studio 21 0\\n', 'artists_loft 22 0\\n', 'assembly_line 23 0\\n', 'athletic_field/outdoor 24 1\\n', 'atrium/public 25 0\\n', 'attic 26 0\\n', 'auditorium 27 0\\n', 'auto_factory 28 0\\n', 'auto_showroom 29 0\\n', 'badlands 30 1\\n', 'bakery/shop 31 0\\n', 'balcony/exterior 32 1\\n', 'balcony/interior 33 1\\n', 'ball_pit 34 0\\n', 'ballroom 35 0\\n', 'bamboo_forest 36 1\\n', 'bank_vault 37 0\\n', 'banquet_hall 38 0\\n', 'bar 39 0\\n', 'barn 40 1\\n', 'barndoor 41 1\\n', 'baseball_field 42 1\\n', 'basement 43 0\\n', 'basketball_court/indoor 44 0\\n', 'bathroom 45 0\\n', 'bazaar/indoor 46 0\\n', 'bazaar/outdoor 47 1\\n', 'beach 48 1\\n', 'beach_house 49 1\\n', 'beauty_salon 50 0\\n', 'bedchamber 51 0\\n', 'bedroom 52 0\\n', 'beer_garden 53 1\\n', 'beer_hall 54 0\\n', 'berth 55 0\\n', 'biology_laboratory 56 0\\n', 'boardwalk 57 1\\n', 'boat_deck 58 1\\n', 'boathouse 59 1\\n', 'bookstore 60 0\\n', 'booth/indoor 61 0\\n', 'botanical_garden 62 1\\n', 'bow_window/indoor 63 0\\n', 'bowling_alley 64 0\\n', 'boxing_ring 65 0\\n', 'bridge 66 1\\n', 'building_facade 67 1\\n', 'bullring 68 1\\n', 'burial_chamber 69 0\\n', 'bus_interior 70 0\\n', 'bus_station/indoor 71 1\\n', 'butchers_shop 72 0\\n', 'butte 73 1\\n', 'cabin/outdoor 74 1\\n', 'cafeteria 75 0\\n', 'campsite 76 1\\n', 'campus 77 1\\n', 'canal/natural 78 1\\n', 'canal/urban 79 1\\n', 'candy_store 80 0\\n', 'canyon 81 1\\n', 'car_interior 82 0\\n', 'carrousel 83 1\\n', 'castle 84 1\\n', 'catacomb 85 0\\n', 'cemetery 86 1\\n', 'chalet 87 1\\n', 'chemistry_lab 88 0\\n', 'childs_room 89 0\\n', 'church/indoor 90 0\\n', 'church/outdoor 91 1\\n', 'classroom 92 0\\n', 'clean_room 93 0\\n', 'cliff 94 1\\n', 'closet 95 0\\n', 'clothing_store 96 0\\n', 'coast 97 1\\n', 'cockpit 98 0\\n', 'coffee_shop 99 0\\n', 'computer_room 100 0\\n', 'conference_center 101 0\\n', 'conference_room 102 0\\n', 'construction_site 103 1\\n', 'corn_field 104 1\\n', 'corral 105 1\\n', 'corridor 106 0\\n', 'cottage 107 1\\n', 'courthouse 108 1\\n', 'courtyard 109 1\\n', 'creek 110 1\\n', 'crevasse 111 1\\n', 'crosswalk 112 1\\n', 'dam 113 1\\n', 'delicatessen 114 0\\n', 'department_store 115 0\\n', 'desert/sand 116 1\\n', 'desert/vegetation 117 1\\n', 'desert_road 118 1\\n', 'diner/outdoor 119 1\\n', 'dining_hall 120 0\\n', 'dining_room 121 0\\n', 'discotheque 122 0\\n', 'doorway/outdoor 123 1\\n', 'dorm_room 124 0\\n', 'downtown 125 1\\n', 'dressing_room 126 0\\n', 'driveway 127 1\\n', 'drugstore 128 0\\n', 'elevator/door 129 0\\n', 'elevator_lobby 130 0\\n', 'elevator_shaft 131 0\\n', 'embassy 132 1\\n', 'engine_room 133 0\\n', 'entrance_hall 134 0\\n', 'escalator/indoor 135 0\\n', 'excavation 136 1\\n', 'fabric_store 137 0\\n', 'farm 138 1\\n', 'fastfood_restaurant 139 0\\n', 'field/cultivated 140 1\\n', 'field/wild 141 1\\n', 'field_road 142 1\\n', 'fire_escape 143 1\\n', 'fire_station 144 1\\n', 'fishpond 145 1\\n', 'flea_market/indoor 146 0\\n', 'florist_shop/indoor 147 0\\n', 'food_court 148 0\\n', 'football_field 149 1\\n', 'forest/broadleaf 150 1\\n', 'forest_path 151 1\\n', 'forest_road 152 1\\n', 'formal_garden 153 1\\n', 'fountain 154 1\\n', 'galley 155 0\\n', 'garage/indoor 156 0\\n', 'garage/outdoor 157 1\\n', 'gas_station 158 1\\n', 'gazebo/exterior 159 1\\n', 'general_store/indoor 160 0\\n', 'general_store/outdoor 161 1\\n', 'gift_shop 162 0\\n', 'glacier 163 1\\n', 'golf_course 164 1\\n', 'greenhouse/indoor 165 0\\n', 'greenhouse/outdoor 166 1\\n', 'grotto 167 1\\n', 'gymnasium/indoor 168 0\\n', 'hangar/indoor 169 0\\n', 'hangar/outdoor 170 1\\n', 'harbor 171 1\\n', 'hardware_store 172 0\\n', 'hayfield 173 1\\n', 'heliport 174 1\\n', 'highway 175 1\\n', 'home_office 176 0\\n', 'home_theater 177 0\\n', 'hospital 178 1\\n', 'hospital_room 179 0\\n', 'hot_spring 180 1\\n', 'hotel/outdoor 181 1\\n', 'hotel_room 182 0\\n', 'house 183 1\\n', 'hunting_lodge/outdoor 184 1\\n', 'ice_cream_parlor 185 0\\n', 'ice_floe 186 1\\n', 'ice_shelf 187 1\\n', 'ice_skating_rink/indoor 188 0\\n', 'ice_skating_rink/outdoor 189 1\\n', 'iceberg 190 1\\n', 'igloo 191 1\\n', 'industrial_area 192 1\\n', 'inn/outdoor 193 1\\n', 'islet 194 1\\n', 'jacuzzi/indoor 195 0\\n', 'jail_cell 196 0\\n', 'japanese_garden 197 1\\n', 'jewelry_shop 198 0\\n', 'junkyard 199 1\\n', 'kasbah 200 1\\n', 'kennel/outdoor 201 1\\n', 'kindergarden_classroom 202 0\\n', 'kitchen 203 0\\n', 'lagoon 204 1\\n', 'lake/natural 205 1\\n', 'landfill 206 1\\n', 'landing_deck 207 1\\n', 'laundromat 208 0\\n', 'lawn 209 1\\n', 'lecture_room 210 0\\n', 'legislative_chamber 211 0\\n', 'library/indoor 212 0\\n', 'library/outdoor 213 1\\n', 'lighthouse 214 1\\n', 'living_room 215 0\\n', 'loading_dock 216 1\\n', 'lobby 217 0\\n', 'lock_chamber 218 1\\n', 'locker_room 219 0\\n', 'mansion 220 1\\n', 'manufactured_home 221 1\\n', 'market/indoor 222 0\\n', 'market/outdoor 223 1\\n', 'marsh 224 1\\n', 'martial_arts_gym 225 0\\n', 'mausoleum 226 1\\n', 'medina 227 1\\n', 'mezzanine 228 0\\n', 'moat/water 229 1\\n', 'mosque/outdoor 230 1\\n', 'motel 231 1\\n', 'mountain 232 1\\n', 'mountain_path 233 1\\n', 'mountain_snowy 234 1\\n', 'movie_theater/indoor 235 0\\n', 'museum/indoor 236 0\\n', 'museum/outdoor 237 1\\n', 'music_studio 238 0\\n', 'natural_history_museum 239 0\\n', 'nursery 240 0\\n', 'nursing_home 241 0\\n', 'oast_house 242 1\\n', 'ocean 243 1\\n', 'office 244 0\\n', 'office_building 245 1\\n', 'office_cubicles 246 0\\n', 'oilrig 247 1\\n', 'operating_room 248 0\\n', 'orchard 249 1\\n', 'orchestra_pit 250 0\\n', 'pagoda 251 1\\n', 'palace 252 1\\n', 'pantry 253 0\\n', 'park 254 1\\n', 'parking_garage/indoor 255 0\\n', 'parking_garage/outdoor 256 1\\n', 'parking_lot 257 1\\n', 'pasture 258 1\\n', 'patio 259 1\\n', 'pavilion 260 1\\n', 'pet_shop 261 0\\n', 'pharmacy 262 0\\n', 'phone_booth 263 1\\n', 'physics_laboratory 264 0\\n', 'picnic_area 265 1\\n', 'pier 266 1\\n', 'pizzeria 267 0\\n', 'playground 268 1\\n', 'playroom 269 0\\n', 'plaza 270 1\\n', 'pond 271 1\\n', 'porch 272 1\\n', 'promenade 273 1\\n', 'pub/indoor 274 0\\n', 'racecourse 275 1\\n', 'raceway 276 1\\n', 'raft 277 1\\n', 'railroad_track 278 1\\n', 'rainforest 279 1\\n', 'reception 280 0\\n', 'recreation_room 281 0\\n', 'repair_shop 282 0\\n', 'residential_neighborhood 283 1\\n', 'restaurant 284 0\\n', 'restaurant_kitchen 285 0\\n', 'restaurant_patio 286 1\\n', 'rice_paddy 287 1\\n', 'river 288 1\\n', 'rock_arch 289 1\\n', 'roof_garden 290 1\\n', 'rope_bridge 291 1\\n', 'ruin 292 1\\n', 'runway 293 1\\n', 'sandbox 294 1\\n', 'sauna 295 0\\n', 'schoolhouse 296 1\\n', 'science_museum 297 0\\n', 'server_room 298 0\\n', 'shed 299 1\\n', 'shoe_shop 300 0\\n', 'shopfront 301 1\\n', 'shopping_mall/indoor 302 0\\n', 'shower 303 0\\n', 'ski_resort 304 1\\n', 'ski_slope 305 1\\n', 'sky 306 1\\n', 'skyscraper 307 1\\n', 'slum 308 1\\n', 'snowfield 309 1\\n', 'soccer_field 310 1\\n', 'stable 311 0\\n', 'stadium/baseball 312 1\\n', 'stadium/football 313 1\\n', 'stadium/soccer 314 1\\n', 'stage/indoor 315 0\\n', 'stage/outdoor 316 1\\n', 'staircase 317 0\\n', 'storage_room 318 0\\n', 'street 319 1\\n', 'subway_station/platform 320 0\\n', 'supermarket 321 0\\n', 'sushi_bar 322 0\\n', 'swamp 323 1\\n', 'swimming_hole 324 0\\n', 'swimming_pool/indoor 325 0\\n', 'swimming_pool/outdoor 326 1\\n', 'synagogue/outdoor 327 1\\n', 'television_room 328 0\\n', 'television_studio 329 0\\n', 'temple/asia 330 1\\n', 'throne_room 331 0\\n', 'ticket_booth 332 0\\n', 'topiary_garden 333 1\\n', 'tower 334 1\\n', 'toyshop 335 0\\n', 'train_interior 336 0\\n', 'train_station/platform 337 0\\n', 'tree_farm 338 1\\n', 'tree_house 339 1\\n', 'trench 340 1\\n', 'tundra 341 1\\n', 'underwater/ocean_deep 342 1\\n', 'utility_room 343 0\\n', 'valley 344 1\\n', 'vegetable_garden 345 1\\n', 'veterinarians_office 346 0\\n', 'viaduct 347 1\\n', 'village 348 1\\n', 'vineyard 349 1\\n', 'volcano 350 1\\n', 'volleyball_court/outdoor 351 1\\n', 'waiting_room 352 0\\n', 'water_park 353 1\\n', 'water_tower 354 1\\n', 'waterfall 355 1\\n', 'watering_hole 356 1\\n', 'wave 357 1\\n', 'wet_bar 358 0\\n', 'wheat_field 359 1\\n', 'wind_farm 360 1\\n', 'windmill 361 1\\n', 'yard 362 1\\n', 'youth_hostel 363 0\\n', 'zen_garden 364 1\\n']\n"
     ]
    }
   ],
   "source": [
    "with open(\"./categories_place365_inout.txt\", \"r\") as f:\n",
    "    print(f.readlines())"
   ]
  },
  {
   "cell_type": "code",
   "execution_count": null,
   "id": "5f38fff8-2baa-418f-8c82-cac38de7b441",
   "metadata": {},
   "outputs": [],
   "source": []
  }
 ],
 "metadata": {
  "availableInstances": [
   {
    "_defaultOrder": 0,
    "_isFastLaunch": true,
    "category": "General purpose",
    "gpuNum": 0,
    "hideHardwareSpecs": false,
    "memoryGiB": 4,
    "name": "ml.t3.medium",
    "vcpuNum": 2
   },
   {
    "_defaultOrder": 1,
    "_isFastLaunch": false,
    "category": "General purpose",
    "gpuNum": 0,
    "hideHardwareSpecs": false,
    "memoryGiB": 8,
    "name": "ml.t3.large",
    "vcpuNum": 2
   },
   {
    "_defaultOrder": 2,
    "_isFastLaunch": false,
    "category": "General purpose",
    "gpuNum": 0,
    "hideHardwareSpecs": false,
    "memoryGiB": 16,
    "name": "ml.t3.xlarge",
    "vcpuNum": 4
   },
   {
    "_defaultOrder": 3,
    "_isFastLaunch": false,
    "category": "General purpose",
    "gpuNum": 0,
    "hideHardwareSpecs": false,
    "memoryGiB": 32,
    "name": "ml.t3.2xlarge",
    "vcpuNum": 8
   },
   {
    "_defaultOrder": 4,
    "_isFastLaunch": true,
    "category": "General purpose",
    "gpuNum": 0,
    "hideHardwareSpecs": false,
    "memoryGiB": 8,
    "name": "ml.m5.large",
    "vcpuNum": 2
   },
   {
    "_defaultOrder": 5,
    "_isFastLaunch": false,
    "category": "General purpose",
    "gpuNum": 0,
    "hideHardwareSpecs": false,
    "memoryGiB": 16,
    "name": "ml.m5.xlarge",
    "vcpuNum": 4
   },
   {
    "_defaultOrder": 6,
    "_isFastLaunch": false,
    "category": "General purpose",
    "gpuNum": 0,
    "hideHardwareSpecs": false,
    "memoryGiB": 32,
    "name": "ml.m5.2xlarge",
    "vcpuNum": 8
   },
   {
    "_defaultOrder": 7,
    "_isFastLaunch": false,
    "category": "General purpose",
    "gpuNum": 0,
    "hideHardwareSpecs": false,
    "memoryGiB": 64,
    "name": "ml.m5.4xlarge",
    "vcpuNum": 16
   },
   {
    "_defaultOrder": 8,
    "_isFastLaunch": false,
    "category": "General purpose",
    "gpuNum": 0,
    "hideHardwareSpecs": false,
    "memoryGiB": 128,
    "name": "ml.m5.8xlarge",
    "vcpuNum": 32
   },
   {
    "_defaultOrder": 9,
    "_isFastLaunch": false,
    "category": "General purpose",
    "gpuNum": 0,
    "hideHardwareSpecs": false,
    "memoryGiB": 192,
    "name": "ml.m5.12xlarge",
    "vcpuNum": 48
   },
   {
    "_defaultOrder": 10,
    "_isFastLaunch": false,
    "category": "General purpose",
    "gpuNum": 0,
    "hideHardwareSpecs": false,
    "memoryGiB": 256,
    "name": "ml.m5.16xlarge",
    "vcpuNum": 64
   },
   {
    "_defaultOrder": 11,
    "_isFastLaunch": false,
    "category": "General purpose",
    "gpuNum": 0,
    "hideHardwareSpecs": false,
    "memoryGiB": 384,
    "name": "ml.m5.24xlarge",
    "vcpuNum": 96
   },
   {
    "_defaultOrder": 12,
    "_isFastLaunch": false,
    "category": "General purpose",
    "gpuNum": 0,
    "hideHardwareSpecs": false,
    "memoryGiB": 8,
    "name": "ml.m5d.large",
    "vcpuNum": 2
   },
   {
    "_defaultOrder": 13,
    "_isFastLaunch": false,
    "category": "General purpose",
    "gpuNum": 0,
    "hideHardwareSpecs": false,
    "memoryGiB": 16,
    "name": "ml.m5d.xlarge",
    "vcpuNum": 4
   },
   {
    "_defaultOrder": 14,
    "_isFastLaunch": false,
    "category": "General purpose",
    "gpuNum": 0,
    "hideHardwareSpecs": false,
    "memoryGiB": 32,
    "name": "ml.m5d.2xlarge",
    "vcpuNum": 8
   },
   {
    "_defaultOrder": 15,
    "_isFastLaunch": false,
    "category": "General purpose",
    "gpuNum": 0,
    "hideHardwareSpecs": false,
    "memoryGiB": 64,
    "name": "ml.m5d.4xlarge",
    "vcpuNum": 16
   },
   {
    "_defaultOrder": 16,
    "_isFastLaunch": false,
    "category": "General purpose",
    "gpuNum": 0,
    "hideHardwareSpecs": false,
    "memoryGiB": 128,
    "name": "ml.m5d.8xlarge",
    "vcpuNum": 32
   },
   {
    "_defaultOrder": 17,
    "_isFastLaunch": false,
    "category": "General purpose",
    "gpuNum": 0,
    "hideHardwareSpecs": false,
    "memoryGiB": 192,
    "name": "ml.m5d.12xlarge",
    "vcpuNum": 48
   },
   {
    "_defaultOrder": 18,
    "_isFastLaunch": false,
    "category": "General purpose",
    "gpuNum": 0,
    "hideHardwareSpecs": false,
    "memoryGiB": 256,
    "name": "ml.m5d.16xlarge",
    "vcpuNum": 64
   },
   {
    "_defaultOrder": 19,
    "_isFastLaunch": false,
    "category": "General purpose",
    "gpuNum": 0,
    "hideHardwareSpecs": false,
    "memoryGiB": 384,
    "name": "ml.m5d.24xlarge",
    "vcpuNum": 96
   },
   {
    "_defaultOrder": 20,
    "_isFastLaunch": false,
    "category": "General purpose",
    "gpuNum": 0,
    "hideHardwareSpecs": true,
    "memoryGiB": 0,
    "name": "ml.geospatial.interactive",
    "supportedImageNames": [
     "sagemaker-geospatial-v1-0"
    ],
    "vcpuNum": 0
   },
   {
    "_defaultOrder": 21,
    "_isFastLaunch": true,
    "category": "Compute optimized",
    "gpuNum": 0,
    "hideHardwareSpecs": false,
    "memoryGiB": 4,
    "name": "ml.c5.large",
    "vcpuNum": 2
   },
   {
    "_defaultOrder": 22,
    "_isFastLaunch": false,
    "category": "Compute optimized",
    "gpuNum": 0,
    "hideHardwareSpecs": false,
    "memoryGiB": 8,
    "name": "ml.c5.xlarge",
    "vcpuNum": 4
   },
   {
    "_defaultOrder": 23,
    "_isFastLaunch": false,
    "category": "Compute optimized",
    "gpuNum": 0,
    "hideHardwareSpecs": false,
    "memoryGiB": 16,
    "name": "ml.c5.2xlarge",
    "vcpuNum": 8
   },
   {
    "_defaultOrder": 24,
    "_isFastLaunch": false,
    "category": "Compute optimized",
    "gpuNum": 0,
    "hideHardwareSpecs": false,
    "memoryGiB": 32,
    "name": "ml.c5.4xlarge",
    "vcpuNum": 16
   },
   {
    "_defaultOrder": 25,
    "_isFastLaunch": false,
    "category": "Compute optimized",
    "gpuNum": 0,
    "hideHardwareSpecs": false,
    "memoryGiB": 72,
    "name": "ml.c5.9xlarge",
    "vcpuNum": 36
   },
   {
    "_defaultOrder": 26,
    "_isFastLaunch": false,
    "category": "Compute optimized",
    "gpuNum": 0,
    "hideHardwareSpecs": false,
    "memoryGiB": 96,
    "name": "ml.c5.12xlarge",
    "vcpuNum": 48
   },
   {
    "_defaultOrder": 27,
    "_isFastLaunch": false,
    "category": "Compute optimized",
    "gpuNum": 0,
    "hideHardwareSpecs": false,
    "memoryGiB": 144,
    "name": "ml.c5.18xlarge",
    "vcpuNum": 72
   },
   {
    "_defaultOrder": 28,
    "_isFastLaunch": false,
    "category": "Compute optimized",
    "gpuNum": 0,
    "hideHardwareSpecs": false,
    "memoryGiB": 192,
    "name": "ml.c5.24xlarge",
    "vcpuNum": 96
   },
   {
    "_defaultOrder": 29,
    "_isFastLaunch": true,
    "category": "Accelerated computing",
    "gpuNum": 1,
    "hideHardwareSpecs": false,
    "memoryGiB": 16,
    "name": "ml.g4dn.xlarge",
    "vcpuNum": 4
   },
   {
    "_defaultOrder": 30,
    "_isFastLaunch": false,
    "category": "Accelerated computing",
    "gpuNum": 1,
    "hideHardwareSpecs": false,
    "memoryGiB": 32,
    "name": "ml.g4dn.2xlarge",
    "vcpuNum": 8
   },
   {
    "_defaultOrder": 31,
    "_isFastLaunch": false,
    "category": "Accelerated computing",
    "gpuNum": 1,
    "hideHardwareSpecs": false,
    "memoryGiB": 64,
    "name": "ml.g4dn.4xlarge",
    "vcpuNum": 16
   },
   {
    "_defaultOrder": 32,
    "_isFastLaunch": false,
    "category": "Accelerated computing",
    "gpuNum": 1,
    "hideHardwareSpecs": false,
    "memoryGiB": 128,
    "name": "ml.g4dn.8xlarge",
    "vcpuNum": 32
   },
   {
    "_defaultOrder": 33,
    "_isFastLaunch": false,
    "category": "Accelerated computing",
    "gpuNum": 4,
    "hideHardwareSpecs": false,
    "memoryGiB": 192,
    "name": "ml.g4dn.12xlarge",
    "vcpuNum": 48
   },
   {
    "_defaultOrder": 34,
    "_isFastLaunch": false,
    "category": "Accelerated computing",
    "gpuNum": 1,
    "hideHardwareSpecs": false,
    "memoryGiB": 256,
    "name": "ml.g4dn.16xlarge",
    "vcpuNum": 64
   },
   {
    "_defaultOrder": 35,
    "_isFastLaunch": false,
    "category": "Accelerated computing",
    "gpuNum": 1,
    "hideHardwareSpecs": false,
    "memoryGiB": 61,
    "name": "ml.p3.2xlarge",
    "vcpuNum": 8
   },
   {
    "_defaultOrder": 36,
    "_isFastLaunch": false,
    "category": "Accelerated computing",
    "gpuNum": 4,
    "hideHardwareSpecs": false,
    "memoryGiB": 244,
    "name": "ml.p3.8xlarge",
    "vcpuNum": 32
   },
   {
    "_defaultOrder": 37,
    "_isFastLaunch": false,
    "category": "Accelerated computing",
    "gpuNum": 8,
    "hideHardwareSpecs": false,
    "memoryGiB": 488,
    "name": "ml.p3.16xlarge",
    "vcpuNum": 64
   },
   {
    "_defaultOrder": 38,
    "_isFastLaunch": false,
    "category": "Accelerated computing",
    "gpuNum": 8,
    "hideHardwareSpecs": false,
    "memoryGiB": 768,
    "name": "ml.p3dn.24xlarge",
    "vcpuNum": 96
   },
   {
    "_defaultOrder": 39,
    "_isFastLaunch": false,
    "category": "Memory Optimized",
    "gpuNum": 0,
    "hideHardwareSpecs": false,
    "memoryGiB": 16,
    "name": "ml.r5.large",
    "vcpuNum": 2
   },
   {
    "_defaultOrder": 40,
    "_isFastLaunch": false,
    "category": "Memory Optimized",
    "gpuNum": 0,
    "hideHardwareSpecs": false,
    "memoryGiB": 32,
    "name": "ml.r5.xlarge",
    "vcpuNum": 4
   },
   {
    "_defaultOrder": 41,
    "_isFastLaunch": false,
    "category": "Memory Optimized",
    "gpuNum": 0,
    "hideHardwareSpecs": false,
    "memoryGiB": 64,
    "name": "ml.r5.2xlarge",
    "vcpuNum": 8
   },
   {
    "_defaultOrder": 42,
    "_isFastLaunch": false,
    "category": "Memory Optimized",
    "gpuNum": 0,
    "hideHardwareSpecs": false,
    "memoryGiB": 128,
    "name": "ml.r5.4xlarge",
    "vcpuNum": 16
   },
   {
    "_defaultOrder": 43,
    "_isFastLaunch": false,
    "category": "Memory Optimized",
    "gpuNum": 0,
    "hideHardwareSpecs": false,
    "memoryGiB": 256,
    "name": "ml.r5.8xlarge",
    "vcpuNum": 32
   },
   {
    "_defaultOrder": 44,
    "_isFastLaunch": false,
    "category": "Memory Optimized",
    "gpuNum": 0,
    "hideHardwareSpecs": false,
    "memoryGiB": 384,
    "name": "ml.r5.12xlarge",
    "vcpuNum": 48
   },
   {
    "_defaultOrder": 45,
    "_isFastLaunch": false,
    "category": "Memory Optimized",
    "gpuNum": 0,
    "hideHardwareSpecs": false,
    "memoryGiB": 512,
    "name": "ml.r5.16xlarge",
    "vcpuNum": 64
   },
   {
    "_defaultOrder": 46,
    "_isFastLaunch": false,
    "category": "Memory Optimized",
    "gpuNum": 0,
    "hideHardwareSpecs": false,
    "memoryGiB": 768,
    "name": "ml.r5.24xlarge",
    "vcpuNum": 96
   },
   {
    "_defaultOrder": 47,
    "_isFastLaunch": false,
    "category": "Accelerated computing",
    "gpuNum": 1,
    "hideHardwareSpecs": false,
    "memoryGiB": 16,
    "name": "ml.g5.xlarge",
    "vcpuNum": 4
   },
   {
    "_defaultOrder": 48,
    "_isFastLaunch": false,
    "category": "Accelerated computing",
    "gpuNum": 1,
    "hideHardwareSpecs": false,
    "memoryGiB": 32,
    "name": "ml.g5.2xlarge",
    "vcpuNum": 8
   },
   {
    "_defaultOrder": 49,
    "_isFastLaunch": false,
    "category": "Accelerated computing",
    "gpuNum": 1,
    "hideHardwareSpecs": false,
    "memoryGiB": 64,
    "name": "ml.g5.4xlarge",
    "vcpuNum": 16
   },
   {
    "_defaultOrder": 50,
    "_isFastLaunch": false,
    "category": "Accelerated computing",
    "gpuNum": 1,
    "hideHardwareSpecs": false,
    "memoryGiB": 128,
    "name": "ml.g5.8xlarge",
    "vcpuNum": 32
   },
   {
    "_defaultOrder": 51,
    "_isFastLaunch": false,
    "category": "Accelerated computing",
    "gpuNum": 1,
    "hideHardwareSpecs": false,
    "memoryGiB": 256,
    "name": "ml.g5.16xlarge",
    "vcpuNum": 64
   },
   {
    "_defaultOrder": 52,
    "_isFastLaunch": false,
    "category": "Accelerated computing",
    "gpuNum": 4,
    "hideHardwareSpecs": false,
    "memoryGiB": 192,
    "name": "ml.g5.12xlarge",
    "vcpuNum": 48
   },
   {
    "_defaultOrder": 53,
    "_isFastLaunch": false,
    "category": "Accelerated computing",
    "gpuNum": 4,
    "hideHardwareSpecs": false,
    "memoryGiB": 384,
    "name": "ml.g5.24xlarge",
    "vcpuNum": 96
   },
   {
    "_defaultOrder": 54,
    "_isFastLaunch": false,
    "category": "Accelerated computing",
    "gpuNum": 8,
    "hideHardwareSpecs": false,
    "memoryGiB": 768,
    "name": "ml.g5.48xlarge",
    "vcpuNum": 192
   },
   {
    "_defaultOrder": 55,
    "_isFastLaunch": false,
    "category": "Accelerated computing",
    "gpuNum": 8,
    "hideHardwareSpecs": false,
    "memoryGiB": 1152,
    "name": "ml.p4d.24xlarge",
    "vcpuNum": 96
   },
   {
    "_defaultOrder": 56,
    "_isFastLaunch": false,
    "category": "Accelerated computing",
    "gpuNum": 8,
    "hideHardwareSpecs": false,
    "memoryGiB": 1152,
    "name": "ml.p4de.24xlarge",
    "vcpuNum": 96
   }
  ],
  "instance_type": "ml.t3.medium",
  "kernelspec": {
   "display_name": "Python 3 (Data Science)",
   "language": "python",
   "name": "python3__SAGEMAKER_INTERNAL__arn:aws:sagemaker:us-east-1:081325390199:image/datascience-1.0"
  },
  "language_info": {
   "codemirror_mode": {
    "name": "ipython",
    "version": 3
   },
   "file_extension": ".py",
   "mimetype": "text/x-python",
   "name": "python",
   "nbconvert_exporter": "python",
   "pygments_lexer": "ipython3",
   "version": "3.7.10"
  }
 },
 "nbformat": 4,
 "nbformat_minor": 5
}
